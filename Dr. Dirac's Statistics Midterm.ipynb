{
 "cells": [
  {
   "cell_type": "markdown",
   "id": "d0204a42",
   "metadata": {},
   "source": [
    "### Importing Libraries"
   ]
  },
  {
   "cell_type": "code",
   "execution_count": 1,
   "id": "d79d0d13",
   "metadata": {},
   "outputs": [],
   "source": [
    "import numpy as np"
   ]
  },
  {
   "cell_type": "markdown",
   "id": "467cbffd",
   "metadata": {},
   "source": [
    "### Defining probabilities"
   ]
  },
  {
   "cell_type": "code",
   "execution_count": 2,
   "id": "b6faacab",
   "metadata": {},
   "outputs": [],
   "source": [
    "# There is a question on the exam that 60% of students know the correct answer to.\n",
    "p_knows_correct_answer = 0.6"
   ]
  },
  {
   "cell_type": "code",
   "execution_count": 12,
   "id": "eb8f24e3",
   "metadata": {},
   "outputs": [
    {
     "data": {
      "text/plain": [
       "0.4"
      ]
     },
     "execution_count": 12,
     "metadata": {},
     "output_type": "execute_result"
    }
   ],
   "source": [
    "# There is a question on the exam that 60% of students do not know the correct answer to.\n",
    "p_knows_not_correct_answer = 1 - p_knows_correct_answer\n",
    "p_knows_not_correct_answer"
   ]
  },
  {
   "cell_type": "code",
   "execution_count": 9,
   "id": "78d9ca52",
   "metadata": {},
   "outputs": [],
   "source": [
    "# Given that a student knows the correct answer, there is still a 15% chance that the student picked the wrong answer.\n",
    "p_wrong_answer_given_knows_correct_answer = 0.15"
   ]
  },
  {
   "cell_type": "code",
   "execution_count": 10,
   "id": "f578caa5",
   "metadata": {},
   "outputs": [],
   "source": [
    "# Given that a student does not know the answer,\n",
    "# there is still a 20% chance that the student picks the correct answer by guessing.\n",
    "p_correct_answer_given_knows_not_correct_answer = 0.2"
   ]
  },
  {
   "cell_type": "markdown",
   "id": "b04ae4b9",
   "metadata": {},
   "source": [
    "### Determining A & B of P(A|B)"
   ]
  },
  {
   "cell_type": "code",
   "execution_count": 3,
   "id": "97d7ec0a",
   "metadata": {},
   "outputs": [],
   "source": [
    "a = 'knows material'\n",
    "b = 'answers correctly'"
   ]
  },
  {
   "cell_type": "markdown",
   "id": "6e800595",
   "metadata": {},
   "source": [
    "### Probability that the student knows the material"
   ]
  },
  {
   "cell_type": "code",
   "execution_count": 11,
   "id": "4dbb36da",
   "metadata": {},
   "outputs": [
    {
     "data": {
      "text/plain": [
       "0.6"
      ]
     },
     "execution_count": 11,
     "metadata": {},
     "output_type": "execute_result"
    }
   ],
   "source": [
    "p_knows_material = p_knows_correct_answer\n",
    "p_knows_material"
   ]
  },
  {
   "cell_type": "markdown",
   "id": "03dd113a",
   "metadata": {},
   "source": [
    "### Probability that a student answers correctly, given he knows the material"
   ]
  },
  {
   "cell_type": "code",
   "execution_count": 5,
   "id": "8a9bbe5a",
   "metadata": {},
   "outputs": [
    {
     "name": "stdout",
     "output_type": "stream",
     "text": [
      "0.85\n"
     ]
    }
   ],
   "source": [
    "p_correct_answer_given_knows_material = 1 - p_wrong_answer_given_knows_correct_answer\n",
    "print(p_correct_answer_given_knows_material)"
   ]
  },
  {
   "cell_type": "markdown",
   "id": "59c0ab56",
   "metadata": {},
   "source": [
    "### Probability of any student answering correctly"
   ]
  },
  {
   "cell_type": "code",
   "execution_count": 6,
   "id": "fc1eb9e6",
   "metadata": {},
   "outputs": [
    {
     "name": "stdout",
     "output_type": "stream",
     "text": [
      "0.5900000000000001\n"
     ]
    }
   ],
   "source": [
    "p_correct_answer = (p_correct_answer_given_knows_not_correct_answer * p_knows_not_correct_answer) + (p_correct_answer_given_knows_material * p_knows_correct_answer)\n",
    "print(p_correct_answer)"
   ]
  },
  {
   "cell_type": "markdown",
   "id": "a6fa1a36",
   "metadata": {},
   "source": [
    "### P(knows material | answers correctly)"
   ]
  },
  {
   "cell_type": "code",
   "execution_count": 7,
   "id": "a61204bc",
   "metadata": {},
   "outputs": [
    {
     "name": "stdout",
     "output_type": "stream",
     "text": [
      "0.8644067796610169\n"
     ]
    }
   ],
   "source": [
    "p_knows_material_given_correct_answer = ( p_correct_answer_given_knows_material * p_knows_material) / p_correct_answer\n",
    "print(p_knows_material_given_correct_answer)"
   ]
  },
  {
   "cell_type": "code",
   "execution_count": null,
   "id": "febc0e95",
   "metadata": {},
   "outputs": [],
   "source": []
  }
 ],
 "metadata": {
  "kernelspec": {
   "display_name": "Python 3",
   "language": "python",
   "name": "python3"
  },
  "language_info": {
   "codemirror_mode": {
    "name": "ipython",
    "version": 3
   },
   "file_extension": ".py",
   "mimetype": "text/x-python",
   "name": "python",
   "nbconvert_exporter": "python",
   "pygments_lexer": "ipython3",
   "version": "3.8.8"
  }
 },
 "nbformat": 4,
 "nbformat_minor": 5
}
